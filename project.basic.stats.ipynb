{
 "cells": [
  {
   "cell_type": "markdown",
   "metadata": {},
   "source": [
    "# Assignment\n",
    "\n",
    "Create code cells below, read in your dataset to accomplish 4 python tasks:\n",
    "\n",
    "1. Print out the basic statistics of the data. For numeric data, this should include the mean, median, mode, range, standard deviation, and interquartile (25%, 50%, 75%) range. For categorical data, it should include the number of unique values.\n",
    "2. For each variable, indicate the number of missing values.\n",
    "3. Choose two variables. Calculate the skew and kurtosis for each of these variables.\n",
    "4. Choose two variables. Represent one variable in a histogram. In the other, filter it to represent multiple box plots.\n",
    "\n",
    "Explain what information you can extract about your dataset from the statistics you have calculated."
   ]
  }
 ],
 "metadata": {
  "language_info": {
   "name": "python"
  }
 },
 "nbformat": 4,
 "nbformat_minor": 2
}
